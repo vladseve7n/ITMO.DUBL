{
 "cells": [
  {
   "cell_type": "markdown",
   "id": "459f0ef6-3481-45e2-9824-30eefcf5461f",
   "metadata": {},
   "source": [
    "## Использование Universal Sentence Encoder для получения эмбеддингов названий компаний"
   ]
  },
  {
   "cell_type": "markdown",
   "id": "0e99232c-e095-4a88-b542-6ba8ad6ff771",
   "metadata": {},
   "source": [
    "Загрузим тренировочный датасет"
   ]
  },
  {
   "cell_type": "code",
   "execution_count": 1,
   "id": "804f599f-5140-4479-a63b-285e39b34c78",
   "metadata": {},
   "outputs": [
    {
     "data": {
      "text/html": [
       "<div>\n",
       "<style scoped>\n",
       "    .dataframe tbody tr th:only-of-type {\n",
       "        vertical-align: middle;\n",
       "    }\n",
       "\n",
       "    .dataframe tbody tr th {\n",
       "        vertical-align: top;\n",
       "    }\n",
       "\n",
       "    .dataframe thead th {\n",
       "        text-align: right;\n",
       "    }\n",
       "</style>\n",
       "<table border=\"1\" class=\"dataframe\">\n",
       "  <thead>\n",
       "    <tr style=\"text-align: right;\">\n",
       "      <th></th>\n",
       "      <th>name_1</th>\n",
       "      <th>name_2</th>\n",
       "      <th>is_duplicate</th>\n",
       "    </tr>\n",
       "  </thead>\n",
       "  <tbody>\n",
       "    <tr>\n",
       "      <th>0</th>\n",
       "      <td>Iko Industries Ltd.</td>\n",
       "      <td>Enormous Industrial Trade Pvt., Ltd.</td>\n",
       "      <td>0</td>\n",
       "    </tr>\n",
       "    <tr>\n",
       "      <th>1</th>\n",
       "      <td>Apcotex Industries Ltd.</td>\n",
       "      <td>Technocraft Industries (India) Ltd.</td>\n",
       "      <td>0</td>\n",
       "    </tr>\n",
       "    <tr>\n",
       "      <th>2</th>\n",
       "      <td>Rishichem Distributors Pvt., Ltd.</td>\n",
       "      <td>Dsa</td>\n",
       "      <td>0</td>\n",
       "    </tr>\n",
       "    <tr>\n",
       "      <th>3</th>\n",
       "      <td>Powermax Rubber Factory</td>\n",
       "      <td>Co. One</td>\n",
       "      <td>0</td>\n",
       "    </tr>\n",
       "    <tr>\n",
       "      <th>4</th>\n",
       "      <td>Tress A/S</td>\n",
       "      <td>Longyou Industries Park Zhejiang</td>\n",
       "      <td>0</td>\n",
       "    </tr>\n",
       "    <tr>\n",
       "      <th>...</th>\n",
       "      <td>...</td>\n",
       "      <td>...</td>\n",
       "      <td>...</td>\n",
       "    </tr>\n",
       "    <tr>\n",
       "      <th>497814</th>\n",
       "      <td>BIT-MAT PRODUCTS</td>\n",
       "      <td>The Goodyear Tire and Rubber Company</td>\n",
       "      <td>0</td>\n",
       "    </tr>\n",
       "    <tr>\n",
       "      <th>497815</th>\n",
       "      <td>Bnd Trading Co., Ltd.</td>\n",
       "      <td>Zhong Shan Yue Liang Economy&amp; Trade Imp. &amp; Exp...</td>\n",
       "      <td>0</td>\n",
       "    </tr>\n",
       "    <tr>\n",
       "      <th>497816</th>\n",
       "      <td>Xeikon Industrial Co., Ltd. Of Dongguan City</td>\n",
       "      <td>Yi Cheng Trading Co., Ltd. Of Dongguan City</td>\n",
       "      <td>0</td>\n",
       "    </tr>\n",
       "    <tr>\n",
       "      <th>497817</th>\n",
       "      <td>Shanghai Kechuan Trading Co., Ltd.</td>\n",
       "      <td>Shanghai M&amp;G Stationery Inc.</td>\n",
       "      <td>0</td>\n",
       "    </tr>\n",
       "    <tr>\n",
       "      <th>497818</th>\n",
       "      <td>Dih Wei Industries Co.</td>\n",
       "      <td>Burlington Industries Corporate</td>\n",
       "      <td>0</td>\n",
       "    </tr>\n",
       "  </tbody>\n",
       "</table>\n",
       "<p>497819 rows × 3 columns</p>\n",
       "</div>"
      ],
      "text/plain": [
       "                                              name_1  \\\n",
       "0                                Iko Industries Ltd.   \n",
       "1                            Apcotex Industries Ltd.   \n",
       "2                  Rishichem Distributors Pvt., Ltd.   \n",
       "3                            Powermax Rubber Factory   \n",
       "4                                          Tress A/S   \n",
       "...                                              ...   \n",
       "497814                              BIT-MAT PRODUCTS   \n",
       "497815                         Bnd Trading Co., Ltd.   \n",
       "497816  Xeikon Industrial Co., Ltd. Of Dongguan City   \n",
       "497817            Shanghai Kechuan Trading Co., Ltd.   \n",
       "497818                        Dih Wei Industries Co.   \n",
       "\n",
       "                                                   name_2  is_duplicate  \n",
       "0                    Enormous Industrial Trade Pvt., Ltd.             0  \n",
       "1                     Technocraft Industries (India) Ltd.             0  \n",
       "2                                                     Dsa             0  \n",
       "3                                                 Co. One             0  \n",
       "4                        Longyou Industries Park Zhejiang             0  \n",
       "...                                                   ...           ...  \n",
       "497814               The Goodyear Tire and Rubber Company             0  \n",
       "497815  Zhong Shan Yue Liang Economy& Trade Imp. & Exp...             0  \n",
       "497816        Yi Cheng Trading Co., Ltd. Of Dongguan City             0  \n",
       "497817                       Shanghai M&G Stationery Inc.             0  \n",
       "497818                    Burlington Industries Corporate             0  \n",
       "\n",
       "[497819 rows x 3 columns]"
      ]
     },
     "execution_count": 1,
     "metadata": {},
     "output_type": "execute_result"
    }
   ],
   "source": [
    "import pandas as pd\n",
    "import numpy as np\n",
    "train_ds = pd.read_csv('https://raw.githubusercontent.com/vladseve7n/ITMO.DUBL/main/dataset/train.csv').drop('pair_id', axis=1)\n",
    "train_ds"
   ]
  },
  {
   "cell_type": "markdown",
   "id": "33d720c8-08b0-4353-99a2-6f95360494ae",
   "metadata": {},
   "source": [
    "Загрузим предварительно запарсенные кластеры"
   ]
  },
  {
   "cell_type": "code",
   "execution_count": 2,
   "id": "104a44b2-23dc-4071-ab6e-5bd6319b5808",
   "metadata": {},
   "outputs": [],
   "source": [
    "import requests\n",
    "clusters = requests.get('https://raw.githubusercontent.com/vladseve7n/ITMO.DUBL/main/dataset/clusters.json').json()['clusters']"
   ]
  },
  {
   "cell_type": "markdown",
   "id": "6a237d12-3be8-4b2a-944a-76f7b5c1dc1c",
   "metadata": {},
   "source": [
    "Скачаем модель USE с tensorflow_hub"
   ]
  },
  {
   "cell_type": "code",
   "execution_count": 3,
   "id": "c75da83d-cd32-4f19-a0c3-4bccbada6364",
   "metadata": {},
   "outputs": [
    {
     "name": "stderr",
     "output_type": "stream",
     "text": [
      "2022-10-24 14:13:51.559828: I tensorflow/core/platform/cpu_feature_guard.cc:193] This TensorFlow binary is optimized with oneAPI Deep Neural Network Library (oneDNN) to use the following CPU instructions in performance-critical operations:  AVX2 FMA\n",
      "To enable them in other operations, rebuild TensorFlow with the appropriate compiler flags.\n",
      "2022-10-24 14:13:51.934097: E tensorflow/stream_executor/cuda/cuda_blas.cc:2981] Unable to register cuBLAS factory: Attempting to register factory for plugin cuBLAS when one has already been registered\n",
      "2022-10-24 14:13:52.705056: W tensorflow/stream_executor/platform/default/dso_loader.cc:64] Could not load dynamic library 'libnvinfer.so.7'; dlerror: libnvinfer.so.7: cannot open shared object file: No such file or directory; LD_LIBRARY_PATH: :/home/usersp/miniconda3/lib/\n",
      "2022-10-24 14:13:52.705168: W tensorflow/stream_executor/platform/default/dso_loader.cc:64] Could not load dynamic library 'libnvinfer_plugin.so.7'; dlerror: libnvinfer_plugin.so.7: cannot open shared object file: No such file or directory; LD_LIBRARY_PATH: :/home/usersp/miniconda3/lib/\n",
      "2022-10-24 14:13:52.705178: W tensorflow/compiler/tf2tensorrt/utils/py_utils.cc:38] TF-TRT Warning: Cannot dlopen some TensorRT libraries. If you would like to use Nvidia GPU with TensorRT, please make sure the missing libraries mentioned above are installed properly.\n",
      "2022-10-24 14:13:53.551477: I tensorflow/stream_executor/cuda/cuda_gpu_executor.cc:980] successful NUMA node read from SysFS had negative value (-1), but there must be at least one NUMA node, so returning NUMA node zero\n",
      "2022-10-24 14:13:53.568239: I tensorflow/stream_executor/cuda/cuda_gpu_executor.cc:980] successful NUMA node read from SysFS had negative value (-1), but there must be at least one NUMA node, so returning NUMA node zero\n",
      "2022-10-24 14:13:53.568926: I tensorflow/stream_executor/cuda/cuda_gpu_executor.cc:980] successful NUMA node read from SysFS had negative value (-1), but there must be at least one NUMA node, so returning NUMA node zero\n",
      "2022-10-24 14:13:53.569853: I tensorflow/core/platform/cpu_feature_guard.cc:193] This TensorFlow binary is optimized with oneAPI Deep Neural Network Library (oneDNN) to use the following CPU instructions in performance-critical operations:  AVX2 FMA\n",
      "To enable them in other operations, rebuild TensorFlow with the appropriate compiler flags.\n",
      "2022-10-24 14:13:53.570727: I tensorflow/stream_executor/cuda/cuda_gpu_executor.cc:980] successful NUMA node read from SysFS had negative value (-1), but there must be at least one NUMA node, so returning NUMA node zero\n",
      "2022-10-24 14:13:53.571313: I tensorflow/stream_executor/cuda/cuda_gpu_executor.cc:980] successful NUMA node read from SysFS had negative value (-1), but there must be at least one NUMA node, so returning NUMA node zero\n",
      "2022-10-24 14:13:53.571714: I tensorflow/stream_executor/cuda/cuda_gpu_executor.cc:980] successful NUMA node read from SysFS had negative value (-1), but there must be at least one NUMA node, so returning NUMA node zero\n",
      "2022-10-24 14:13:53.975129: I tensorflow/stream_executor/cuda/cuda_gpu_executor.cc:980] successful NUMA node read from SysFS had negative value (-1), but there must be at least one NUMA node, so returning NUMA node zero\n",
      "2022-10-24 14:13:53.975441: I tensorflow/stream_executor/cuda/cuda_gpu_executor.cc:980] successful NUMA node read from SysFS had negative value (-1), but there must be at least one NUMA node, so returning NUMA node zero\n",
      "2022-10-24 14:13:53.975703: I tensorflow/stream_executor/cuda/cuda_gpu_executor.cc:980] successful NUMA node read from SysFS had negative value (-1), but there must be at least one NUMA node, so returning NUMA node zero\n",
      "2022-10-24 14:13:53.975951: I tensorflow/core/common_runtime/gpu/gpu_device.cc:1616] Created device /job:localhost/replica:0/task:0/device:GPU:0 with 9866 MB memory:  -> device: 0, name: NVIDIA GeForce GTX 1080 Ti, pci bus id: 0000:01:00.0, compute capability: 6.1\n"
     ]
    }
   ],
   "source": [
    "import tensorflow_hub as hub\n",
    "embed = hub.load(\"https://tfhub.dev/google/universal-sentence-encoder/4\")"
   ]
  },
  {
   "cell_type": "markdown",
   "id": "4dcb107d-a8a5-473b-bb22-71adc9cb6166",
   "metadata": {},
   "source": [
    "Получим эмбеддинг для каждого уникального названия в датасете"
   ]
  },
  {
   "cell_type": "code",
   "execution_count": 4,
   "id": "6c878bdf-dd1b-41b2-ae59-98ba43037caf",
   "metadata": {},
   "outputs": [
    {
     "name": "stdout",
     "output_type": "stream",
     "text": [
      "Всего уникальных имен 18022\n"
     ]
    }
   ],
   "source": [
    "unique_names = list(np.unique(np.append(train_ds.name_1.values, train_ds.name_2.values)))\n",
    "print(f'Всего уникальных имен {len(unique_names)}')"
   ]
  },
  {
   "cell_type": "code",
   "execution_count": 5,
   "id": "df475a94-db78-423f-84ac-4daefcae3ee8",
   "metadata": {},
   "outputs": [
    {
     "name": "stderr",
     "output_type": "stream",
     "text": [
      "2022-10-24 14:13:58.738262: W tensorflow/stream_executor/gpu/asm_compiler.cc:111] *** WARNING *** You are using ptxas 10.1.243, which is older than 11.1. ptxas before 11.1 is known to miscompile XLA code, leading to incorrect results or invalid-address errors.\n",
      "\n",
      "You may not need to update to CUDA 11.1; cherry-picking the ptxas binary is often sufficient.\n",
      "2022-10-24 14:13:58.738284: W tensorflow/stream_executor/gpu/asm_compiler.cc:111] *** WARNING *** You are using ptxas 10.1.243, which is older than 11.1. ptxas before 11.1 is known to miscompile XLA code, leading to incorrect results or invalid-address errors.\n",
      "\n",
      "You may not need to update to CUDA 11.1; cherry-picking the ptxas binary is often sufficient.\n",
      "2022-10-24 14:13:58.738299: W tensorflow/stream_executor/gpu/asm_compiler.cc:111] *** WARNING *** You are using ptxas 10.1.243, which is older than 11.1. ptxas before 11.1 is known to miscompile XLA code, leading to incorrect results or invalid-address errors.\n",
      "\n",
      "You may not need to update to CUDA 11.1; cherry-picking the ptxas binary is often sufficient.\n",
      "2022-10-24 14:13:58.738312: W tensorflow/stream_executor/gpu/asm_compiler.cc:111] *** WARNING *** You are using ptxas 10.1.243, which is older than 11.1. ptxas before 11.1 is known to miscompile XLA code, leading to incorrect results or invalid-address errors.\n",
      "\n",
      "You may not need to update to CUDA 11.1; cherry-picking the ptxas binary is often sufficient.\n",
      "2022-10-24 14:13:58.738377: W tensorflow/stream_executor/gpu/asm_compiler.cc:111] *** WARNING *** You are using ptxas 10.1.243, which is older than 11.1. ptxas before 11.1 is known to miscompile XLA code, leading to incorrect results or invalid-address errors.\n",
      "\n",
      "You may not need to update to CUDA 11.1; cherry-picking the ptxas binary is often sufficient.\n",
      "2022-10-24 14:13:58.738427: W tensorflow/stream_executor/gpu/asm_compiler.cc:111] *** WARNING *** You are using ptxas 10.1.243, which is older than 11.1. ptxas before 11.1 is known to miscompile XLA code, leading to incorrect results or invalid-address errors.\n",
      "\n",
      "You may not need to update to CUDA 11.1; cherry-picking the ptxas binary is often sufficient.\n",
      "2022-10-24 14:13:58.739253: W tensorflow/stream_executor/gpu/asm_compiler.cc:111] *** WARNING *** You are using ptxas 10.1.243, which is older than 11.1. ptxas before 11.1 is known to miscompile XLA code, leading to incorrect results or invalid-address errors.\n",
      "\n",
      "You may not need to update to CUDA 11.1; cherry-picking the ptxas binary is often sufficient.\n",
      "2022-10-24 14:13:58.739312: W tensorflow/stream_executor/gpu/asm_compiler.cc:111] *** WARNING *** You are using ptxas 10.1.243, which is older than 11.1. ptxas before 11.1 is known to miscompile XLA code, leading to incorrect results or invalid-address errors.\n",
      "\n",
      "You may not need to update to CUDA 11.1; cherry-picking the ptxas binary is often sufficient.\n",
      "2022-10-24 14:13:58.739609: W tensorflow/stream_executor/gpu/asm_compiler.cc:111] *** WARNING *** You are using ptxas 10.1.243, which is older than 11.1. ptxas before 11.1 is known to miscompile XLA code, leading to incorrect results or invalid-address errors.\n",
      "\n",
      "You may not need to update to CUDA 11.1; cherry-picking the ptxas binary is often sufficient.\n",
      "2022-10-24 14:13:58.740075: W tensorflow/stream_executor/gpu/asm_compiler.cc:111] *** WARNING *** You are using ptxas 10.1.243, which is older than 11.1. ptxas before 11.1 is known to miscompile XLA code, leading to incorrect results or invalid-address errors.\n",
      "\n",
      "You may not need to update to CUDA 11.1; cherry-picking the ptxas binary is often sufficient.\n",
      "2022-10-24 14:13:58.740443: W tensorflow/stream_executor/gpu/asm_compiler.cc:111] *** WARNING *** You are using ptxas 10.1.243, which is older than 11.1. ptxas before 11.1 is known to miscompile XLA code, leading to incorrect results or invalid-address errors.\n",
      "\n",
      "You may not need to update to CUDA 11.1; cherry-picking the ptxas binary is often sufficient.\n",
      "2022-10-24 14:13:58.741538: W tensorflow/stream_executor/gpu/asm_compiler.cc:111] *** WARNING *** You are using ptxas 10.1.243, which is older than 11.1. ptxas before 11.1 is known to miscompile XLA code, leading to incorrect results or invalid-address errors.\n",
      "\n",
      "You may not need to update to CUDA 11.1; cherry-picking the ptxas binary is often sufficient.\n",
      "2022-10-24 14:13:58.741760: W tensorflow/stream_executor/gpu/asm_compiler.cc:111] *** WARNING *** You are using ptxas 10.1.243, which is older than 11.1. ptxas before 11.1 is known to miscompile XLA code, leading to incorrect results or invalid-address errors.\n",
      "\n",
      "You may not need to update to CUDA 11.1; cherry-picking the ptxas binary is often sufficient.\n"
     ]
    },
    {
     "name": "stdout",
     "output_type": "stream",
     "text": [
      "CPU times: user 1min 28s, sys: 12.2 s, total: 1min 40s\n",
      "Wall time: 45.6 s\n"
     ]
    }
   ],
   "source": [
    "%%time\n",
    "embeddings_dict = {name: embed([name])[0].numpy() for name in unique_names}"
   ]
  },
  {
   "cell_type": "markdown",
   "id": "f20f5845-3459-42e7-9c46-f20e416a46c2",
   "metadata": {},
   "source": [
    "Посмотрим на расстояние между парами в датасете"
   ]
  },
  {
   "cell_type": "code",
   "execution_count": 6,
   "id": "2b3c0434-7611-4658-8e6d-1b5396e3e506",
   "metadata": {},
   "outputs": [],
   "source": [
    "train_ds['l1'] = (abs(train_ds.name_2.apply(lambda x: embeddings_dict[x]) - train_ds.name_1.apply(lambda x: embeddings_dict[x]))).apply(sum)\n",
    "train_ds['l2'] = ((train_ds.name_2.apply(lambda x: embeddings_dict[x]) - train_ds.name_1.apply(lambda x: embeddings_dict[x]))**2).apply(sum)**(1/2)"
   ]
  },
  {
   "cell_type": "code",
   "execution_count": 23,
   "id": "9a2a3448-c550-48c5-8d8c-d36659854898",
   "metadata": {},
   "outputs": [
    {
     "data": {
      "text/html": [
       "<div>\n",
       "<style scoped>\n",
       "    .dataframe tbody tr th:only-of-type {\n",
       "        vertical-align: middle;\n",
       "    }\n",
       "\n",
       "    .dataframe tbody tr th {\n",
       "        vertical-align: top;\n",
       "    }\n",
       "\n",
       "    .dataframe thead th {\n",
       "        text-align: right;\n",
       "    }\n",
       "</style>\n",
       "<table border=\"1\" class=\"dataframe\">\n",
       "  <thead>\n",
       "    <tr style=\"text-align: right;\">\n",
       "      <th></th>\n",
       "      <th>name_1</th>\n",
       "      <th>name_2</th>\n",
       "      <th>is_duplicate</th>\n",
       "      <th>l1</th>\n",
       "      <th>l2</th>\n",
       "    </tr>\n",
       "  </thead>\n",
       "  <tbody>\n",
       "    <tr>\n",
       "      <th>161</th>\n",
       "      <td>JX Nippon Oil &amp; Gas Exploration (Brasil) Ltda</td>\n",
       "      <td>JX Nippon Oil &amp; Gas Exploration Technical Serv...</td>\n",
       "      <td>1</td>\n",
       "      <td>13.198858</td>\n",
       "      <td>0.774979</td>\n",
       "    </tr>\n",
       "    <tr>\n",
       "      <th>603</th>\n",
       "      <td>Pirelli Neumaticos S.A.I.C.</td>\n",
       "      <td>Pirelli Tyre Co., Ltd.</td>\n",
       "      <td>1</td>\n",
       "      <td>15.278474</td>\n",
       "      <td>0.861093</td>\n",
       "    </tr>\n",
       "    <tr>\n",
       "      <th>835</th>\n",
       "      <td>Brenntag Australia (Pty) Ltd.</td>\n",
       "      <td>Brenntag Group</td>\n",
       "      <td>1</td>\n",
       "      <td>23.086198</td>\n",
       "      <td>1.246404</td>\n",
       "    </tr>\n",
       "    <tr>\n",
       "      <th>1328</th>\n",
       "      <td>PAUL BAUDER GMBH &amp; CO KG, BOCHUM PLANT</td>\n",
       "      <td>Paul Bauder ag</td>\n",
       "      <td>1</td>\n",
       "      <td>16.303659</td>\n",
       "      <td>0.937461</td>\n",
       "    </tr>\n",
       "    <tr>\n",
       "      <th>1562</th>\n",
       "      <td>TOTAL CESKA REPUBLIKA s.r.o.</td>\n",
       "      <td>TOTAL FRANCE (ARNAY LE DUC)</td>\n",
       "      <td>1</td>\n",
       "      <td>21.662789</td>\n",
       "      <td>1.192262</td>\n",
       "    </tr>\n",
       "    <tr>\n",
       "      <th>...</th>\n",
       "      <td>...</td>\n",
       "      <td>...</td>\n",
       "      <td>...</td>\n",
       "      <td>...</td>\n",
       "      <td>...</td>\n",
       "    </tr>\n",
       "    <tr>\n",
       "      <th>496574</th>\n",
       "      <td>Bridgestone （Huizhou）Synthetic Rubber Co., Ltd.</td>\n",
       "      <td>Bridgestone India Pvt., Ltd.</td>\n",
       "      <td>1</td>\n",
       "      <td>15.799219</td>\n",
       "      <td>0.911611</td>\n",
       "    </tr>\n",
       "    <tr>\n",
       "      <th>496760</th>\n",
       "      <td>Arlanxeo International Group</td>\n",
       "      <td>Arlanxeo Corp.</td>\n",
       "      <td>1</td>\n",
       "      <td>19.748249</td>\n",
       "      <td>1.105423</td>\n",
       "    </tr>\n",
       "    <tr>\n",
       "      <th>497015</th>\n",
       "      <td>Brenntag Peru S.A.C.</td>\n",
       "      <td>Brenntag Chile Comercial E Industrial Ltda</td>\n",
       "      <td>1</td>\n",
       "      <td>20.787460</td>\n",
       "      <td>1.173913</td>\n",
       "    </tr>\n",
       "    <tr>\n",
       "      <th>497083</th>\n",
       "      <td>Dow Chemical International Private Ltd.</td>\n",
       "      <td>Dow Chemical Pacific</td>\n",
       "      <td>1</td>\n",
       "      <td>14.903662</td>\n",
       "      <td>0.847723</td>\n",
       "    </tr>\n",
       "    <tr>\n",
       "      <th>497605</th>\n",
       "      <td>Bridgestone （Huizhou）Synthetic Rubber Co., Ltd.</td>\n",
       "      <td>Bridgestone International Group</td>\n",
       "      <td>1</td>\n",
       "      <td>18.223715</td>\n",
       "      <td>1.034507</td>\n",
       "    </tr>\n",
       "  </tbody>\n",
       "</table>\n",
       "<p>3658 rows × 5 columns</p>\n",
       "</div>"
      ],
      "text/plain": [
       "                                                 name_1  \\\n",
       "161       JX Nippon Oil & Gas Exploration (Brasil) Ltda   \n",
       "603                         Pirelli Neumaticos S.A.I.C.   \n",
       "835                       Brenntag Australia (Pty) Ltd.   \n",
       "1328             PAUL BAUDER GMBH & CO KG, BOCHUM PLANT   \n",
       "1562                       TOTAL CESKA REPUBLIKA s.r.o.   \n",
       "...                                                 ...   \n",
       "496574  Bridgestone （Huizhou）Synthetic Rubber Co., Ltd.   \n",
       "496760                     Arlanxeo International Group   \n",
       "497015                             Brenntag Peru S.A.C.   \n",
       "497083          Dow Chemical International Private Ltd.   \n",
       "497605  Bridgestone （Huizhou）Synthetic Rubber Co., Ltd.   \n",
       "\n",
       "                                                   name_2  is_duplicate  \\\n",
       "161     JX Nippon Oil & Gas Exploration Technical Serv...             1   \n",
       "603                                Pirelli Tyre Co., Ltd.             1   \n",
       "835                                        Brenntag Group             1   \n",
       "1328                                       Paul Bauder ag             1   \n",
       "1562                          TOTAL FRANCE (ARNAY LE DUC)             1   \n",
       "...                                                   ...           ...   \n",
       "496574                       Bridgestone India Pvt., Ltd.             1   \n",
       "496760                                     Arlanxeo Corp.             1   \n",
       "497015         Brenntag Chile Comercial E Industrial Ltda             1   \n",
       "497083                               Dow Chemical Pacific             1   \n",
       "497605                    Bridgestone International Group             1   \n",
       "\n",
       "               l1        l2  \n",
       "161     13.198858  0.774979  \n",
       "603     15.278474  0.861093  \n",
       "835     23.086198  1.246404  \n",
       "1328    16.303659  0.937461  \n",
       "1562    21.662789  1.192262  \n",
       "...           ...       ...  \n",
       "496574  15.799219  0.911611  \n",
       "496760  19.748249  1.105423  \n",
       "497015  20.787460  1.173913  \n",
       "497083  14.903662  0.847723  \n",
       "497605  18.223715  1.034507  \n",
       "\n",
       "[3658 rows x 5 columns]"
      ]
     },
     "execution_count": 23,
     "metadata": {},
     "output_type": "execute_result"
    }
   ],
   "source": [
    "train_ds[train_ds['is_duplicate'] == 1]"
   ]
  },
  {
   "cell_type": "code",
   "execution_count": 8,
   "id": "49a5b614-46e3-4e92-a146-bd2e424650cf",
   "metadata": {},
   "outputs": [
    {
     "data": {
      "text/plain": [
       "(17.36295437039792, 0.9751832977954248)"
      ]
     },
     "execution_count": 8,
     "metadata": {},
     "output_type": "execute_result"
    }
   ],
   "source": [
    "train_ds[train_ds['is_duplicate'] == 1].l1.mean(), train_ds[train_ds['is_duplicate'] == 1].l2.mean()"
   ]
  },
  {
   "cell_type": "code",
   "execution_count": 9,
   "id": "674768bc-6e4d-4002-898c-52ef1617e3aa",
   "metadata": {},
   "outputs": [
    {
     "data": {
      "text/plain": [
       "(21.619643283359217, 1.1929991510725755)"
      ]
     },
     "execution_count": 9,
     "metadata": {},
     "output_type": "execute_result"
    }
   ],
   "source": [
    "train_ds[train_ds['is_duplicate'] == 0].l1.mean(), train_ds[train_ds['is_duplicate'] == 0].l2.mean()"
   ]
  },
  {
   "cell_type": "markdown",
   "id": "66e6067a-485d-4ac7-8987-54a568a9a56b",
   "metadata": {},
   "source": [
    "Создадим датасет со средним вектором каждого кластера и попробуем найти соответствие по минимальному расстоянию"
   ]
  },
  {
   "cell_type": "code",
   "execution_count": 10,
   "id": "8ad7c2e7-5ab6-4073-9dfe-2f6b7d957438",
   "metadata": {},
   "outputs": [],
   "source": [
    "import numpy as np\n",
    "from tqdm import tqdm"
   ]
  },
  {
   "cell_type": "code",
   "execution_count": 11,
   "id": "fae58fa8-203b-463c-bb02-eedac28589de",
   "metadata": {},
   "outputs": [
    {
     "name": "stderr",
     "output_type": "stream",
     "text": [
      "100%|██████████████████████████████████████████████████████████████| 450/450 [00:00<00:00, 67127.96it/s]\n"
     ]
    }
   ],
   "source": [
    "cluster_embedding = {}\n",
    "for num, cluster in enumerate(tqdm(clusters)):\n",
    "    cluster_embedding[num] = {}\n",
    "    cluster_embedding[num]['cluster'] = cluster\n",
    "    embed_cluster = np.mean(np.array([embeddings_dict[x] for x in cluster]), axis=0)\n",
    "    cluster_embedding[num]['embedding'] = embed_cluster"
   ]
  },
  {
   "cell_type": "code",
   "execution_count": 25,
   "id": "9970153b-907c-439d-bd87-44762330fe54",
   "metadata": {},
   "outputs": [],
   "source": [
    "def find_closest_cluster(cluster_embedding: dict, name_of_company: str, embed, distance: str = 'l1'):\n",
    "    name_embedding = embed([name_of_company])[0].numpy()\n",
    "    min_distance = 10e12\n",
    "    result_cluster = None\n",
    "    for key in cluster_embedding:\n",
    "        cluster = cluster_embedding[key]['cluster']\n",
    "        cluster_embed = cluster_embedding[key]['embedding']\n",
    "        if distance == 'l1':\n",
    "            distance = np.abs(cluster_embed - name_embedding).sum()\n",
    "        else:\n",
    "            distance = (((cluster_embed - name_embedding)**2).sum())**(1/2)\n",
    "        if distance < min_distance:\n",
    "            min_distance = distance\n",
    "            result_cluster = cluster\n",
    "    return result_cluster, min_distance"
   ]
  },
  {
   "cell_type": "code",
   "execution_count": 27,
   "id": "7e582ddb-7330-4c7e-8880-759630ae7bd1",
   "metadata": {},
   "outputs": [
    {
     "data": {
      "text/plain": [
       "(['PAUL BAUDER GMBH & CO KG',\n",
       "  'PAUL BAUDER GMBH & CO KG, BOCHUM PLANT',\n",
       "  'PAUL BAUDER GMBH & CO KG, LANDSBERG PLANT',\n",
       "  'PAUL BAUDER GMBH & CO KG, STUTTGART PLANT',\n",
       "  'Paul Bauder ag',\n",
       "  'PAUL BAUDER GMBH & CO.KG, ACHIM PLANT',\n",
       "  'Paul Bauder GmbH & Co. KG'],\n",
       " 0.8561134869980347)"
      ]
     },
     "execution_count": 27,
     "metadata": {},
     "output_type": "execute_result"
    }
   ],
   "source": [
    "find_closest_cluster(cluster_embedding, 'Paul Bauder ag\t', embed, distance='l2')"
   ]
  },
  {
   "cell_type": "code",
   "execution_count": 28,
   "id": "ca2d4bdf-ce04-4f1c-a976-b07467ec007e",
   "metadata": {},
   "outputs": [
    {
     "data": {
      "text/plain": [
       "(['Bridgestone India Pvt., Ltd.',\n",
       "  'Bridgestone Canada Inc.',\n",
       "  'Bridgestone Golf (Shenzhen) Co., Ltd.',\n",
       "  'Bridgestone India Automotive',\n",
       "  'Bridgestone(Shenyang) Tire Co., Ltd.',\n",
       "  'Bridgestone (Tianjin) Tire Co., Ltd.',\n",
       "  'Warren Plant Bato Bridgestone',\n",
       "  'Bridgestone Firestone Venezolana',\n",
       "  'Bridgestone De Costa Rica Sociedad Anoni',\n",
       "  'Bridgestone International Group',\n",
       "  'Bridgestone (Huizhou) Tire Co., Ltd.',\n",
       "  'Pt Bridgestone Tire Indonesia',\n",
       "  'Bridgestone (China) Research And Development Co., Ltd.',\n",
       "  'Bridgestone Firestone De Mexico Sa De Cv',\n",
       "  'Bridgestone Tire',\n",
       "  'Thai Bridgestone Co., Ltd.',\n",
       "  'Bridgestone De Mexico S.A. De C.V.',\n",
       "  'Bridgestone （Huizhou）Synthetic Rubber Co., Ltd.',\n",
       "  'Bridgestone India',\n",
       "  'Bridgestone Do Brasil Industria E Comercio Ltda',\n",
       "  'Bridgestone Americas Tire',\n",
       "  'Bridgestone Firestone Do Brasil',\n",
       "  'Bridgestone Do Brasil Industria & Comercio Ltda',\n",
       "  'Bridgestone Firestone De Argentina Saic',\n",
       "  'Bridgestone Ncr',\n",
       "  'Bridgestone Hosepower Llc',\n",
       "  'Bridgestone Tire Co.',\n",
       "  'Bridgestone Stargard Sp Zoo',\n",
       "  'Shenyang Bridgestone',\n",
       "  'Bridgestone Neumaticos De',\n",
       "  'Bridgestone Neumaticos De Monterreysa De Cv',\n",
       "  'Bridgestone India Automotive Products Private Ltd.',\n",
       "  'Bridgestone Do Brasil Industria E Comenrcio Ltda',\n",
       "  'Bridgestone Firestone Venezolana C',\n",
       "  'Bridgestone De Costa Rica S.A.'],\n",
       " 0.7430248556202468)"
      ]
     },
     "execution_count": 28,
     "metadata": {},
     "output_type": "execute_result"
    }
   ],
   "source": [
    "find_closest_cluster(cluster_embedding, 'Bridgestone International Group', embed, distance='l2')"
   ]
  },
  {
   "cell_type": "code",
   "execution_count": null,
   "id": "ca05267b-272b-409b-8889-ac4eaa3f38fb",
   "metadata": {},
   "outputs": [],
   "source": []
  }
 ],
 "metadata": {
  "kernelspec": {
   "display_name": "Python 3 (ipykernel)",
   "language": "python",
   "name": "python3"
  },
  "language_info": {
   "codemirror_mode": {
    "name": "ipython",
    "version": 3
   },
   "file_extension": ".py",
   "mimetype": "text/x-python",
   "name": "python",
   "nbconvert_exporter": "python",
   "pygments_lexer": "ipython3",
   "version": "3.10.6"
  }
 },
 "nbformat": 4,
 "nbformat_minor": 5
}
