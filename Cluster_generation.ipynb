{
 "cells": [
  {
   "cell_type": "markdown",
   "id": "d2de528d-8101-47b6-a041-41fb3d741749",
   "metadata": {},
   "source": [
    "## Cluster generating"
   ]
  },
  {
   "cell_type": "code",
   "execution_count": 21,
   "id": "20c7f4c4-33ac-4173-8936-9556695ee297",
   "metadata": {},
   "outputs": [],
   "source": [
    "import pandas as pd\n",
    "import numpy as np"
   ]
  },
  {
   "cell_type": "code",
   "execution_count": 3,
   "id": "e893de60-2bed-43f1-ac99-6a85605961f2",
   "metadata": {},
   "outputs": [],
   "source": [
    "train_ds = pd.read_csv('https://raw.githubusercontent.com/vladseve7n/ITMO.DUBL/main/dataset/train.csv').drop('pair_id', axis=1)"
   ]
  },
  {
   "cell_type": "code",
   "execution_count": 4,
   "id": "ff7ca70f-28b8-48f2-86d6-f18d3bc6d60f",
   "metadata": {},
   "outputs": [
    {
     "data": {
      "text/html": [
       "<div>\n",
       "<style scoped>\n",
       "    .dataframe tbody tr th:only-of-type {\n",
       "        vertical-align: middle;\n",
       "    }\n",
       "\n",
       "    .dataframe tbody tr th {\n",
       "        vertical-align: top;\n",
       "    }\n",
       "\n",
       "    .dataframe thead th {\n",
       "        text-align: right;\n",
       "    }\n",
       "</style>\n",
       "<table border=\"1\" class=\"dataframe\">\n",
       "  <thead>\n",
       "    <tr style=\"text-align: right;\">\n",
       "      <th></th>\n",
       "      <th>name_1</th>\n",
       "      <th>name_2</th>\n",
       "      <th>is_duplicate</th>\n",
       "    </tr>\n",
       "  </thead>\n",
       "  <tbody>\n",
       "    <tr>\n",
       "      <th>0</th>\n",
       "      <td>Iko Industries Ltd.</td>\n",
       "      <td>Enormous Industrial Trade Pvt., Ltd.</td>\n",
       "      <td>0</td>\n",
       "    </tr>\n",
       "    <tr>\n",
       "      <th>1</th>\n",
       "      <td>Apcotex Industries Ltd.</td>\n",
       "      <td>Technocraft Industries (India) Ltd.</td>\n",
       "      <td>0</td>\n",
       "    </tr>\n",
       "    <tr>\n",
       "      <th>2</th>\n",
       "      <td>Rishichem Distributors Pvt., Ltd.</td>\n",
       "      <td>Dsa</td>\n",
       "      <td>0</td>\n",
       "    </tr>\n",
       "    <tr>\n",
       "      <th>3</th>\n",
       "      <td>Powermax Rubber Factory</td>\n",
       "      <td>Co. One</td>\n",
       "      <td>0</td>\n",
       "    </tr>\n",
       "    <tr>\n",
       "      <th>4</th>\n",
       "      <td>Tress A/S</td>\n",
       "      <td>Longyou Industries Park Zhejiang</td>\n",
       "      <td>0</td>\n",
       "    </tr>\n",
       "    <tr>\n",
       "      <th>...</th>\n",
       "      <td>...</td>\n",
       "      <td>...</td>\n",
       "      <td>...</td>\n",
       "    </tr>\n",
       "    <tr>\n",
       "      <th>497814</th>\n",
       "      <td>BIT-MAT PRODUCTS</td>\n",
       "      <td>The Goodyear Tire and Rubber Company</td>\n",
       "      <td>0</td>\n",
       "    </tr>\n",
       "    <tr>\n",
       "      <th>497815</th>\n",
       "      <td>Bnd Trading Co., Ltd.</td>\n",
       "      <td>Zhong Shan Yue Liang Economy&amp; Trade Imp. &amp; Exp...</td>\n",
       "      <td>0</td>\n",
       "    </tr>\n",
       "    <tr>\n",
       "      <th>497816</th>\n",
       "      <td>Xeikon Industrial Co., Ltd. Of Dongguan City</td>\n",
       "      <td>Yi Cheng Trading Co., Ltd. Of Dongguan City</td>\n",
       "      <td>0</td>\n",
       "    </tr>\n",
       "    <tr>\n",
       "      <th>497817</th>\n",
       "      <td>Shanghai Kechuan Trading Co., Ltd.</td>\n",
       "      <td>Shanghai M&amp;G Stationery Inc.</td>\n",
       "      <td>0</td>\n",
       "    </tr>\n",
       "    <tr>\n",
       "      <th>497818</th>\n",
       "      <td>Dih Wei Industries Co.</td>\n",
       "      <td>Burlington Industries Corporate</td>\n",
       "      <td>0</td>\n",
       "    </tr>\n",
       "  </tbody>\n",
       "</table>\n",
       "<p>497819 rows × 3 columns</p>\n",
       "</div>"
      ],
      "text/plain": [
       "                                              name_1  \\\n",
       "0                                Iko Industries Ltd.   \n",
       "1                            Apcotex Industries Ltd.   \n",
       "2                  Rishichem Distributors Pvt., Ltd.   \n",
       "3                            Powermax Rubber Factory   \n",
       "4                                          Tress A/S   \n",
       "...                                              ...   \n",
       "497814                              BIT-MAT PRODUCTS   \n",
       "497815                         Bnd Trading Co., Ltd.   \n",
       "497816  Xeikon Industrial Co., Ltd. Of Dongguan City   \n",
       "497817            Shanghai Kechuan Trading Co., Ltd.   \n",
       "497818                        Dih Wei Industries Co.   \n",
       "\n",
       "                                                   name_2  is_duplicate  \n",
       "0                    Enormous Industrial Trade Pvt., Ltd.             0  \n",
       "1                     Technocraft Industries (India) Ltd.             0  \n",
       "2                                                     Dsa             0  \n",
       "3                                                 Co. One             0  \n",
       "4                        Longyou Industries Park Zhejiang             0  \n",
       "...                                                   ...           ...  \n",
       "497814               The Goodyear Tire and Rubber Company             0  \n",
       "497815  Zhong Shan Yue Liang Economy& Trade Imp. & Exp...             0  \n",
       "497816        Yi Cheng Trading Co., Ltd. Of Dongguan City             0  \n",
       "497817                       Shanghai M&G Stationery Inc.             0  \n",
       "497818                    Burlington Industries Corporate             0  \n",
       "\n",
       "[497819 rows x 3 columns]"
      ]
     },
     "execution_count": 4,
     "metadata": {},
     "output_type": "execute_result"
    }
   ],
   "source": [
    "train_ds"
   ]
  },
  {
   "cell_type": "markdown",
   "id": "456b1d8d-372b-4a8c-a92c-d48c6b9f217c",
   "metadata": {},
   "source": [
    "Разделим датасет по кластерам"
   ]
  },
  {
   "cell_type": "code",
   "execution_count": 52,
   "id": "ad0f8dc3-08cf-4ef5-a653-98e194b85207",
   "metadata": {},
   "outputs": [],
   "source": [
    "clusters = []"
   ]
  },
  {
   "cell_type": "code",
   "execution_count": 53,
   "id": "5ae6e2ae-2bdd-49d8-b8f6-213a4647f3d6",
   "metadata": {},
   "outputs": [
    {
     "name": "stdout",
     "output_type": "stream",
     "text": [
      "Всего уникальных имен 18022\n"
     ]
    }
   ],
   "source": [
    "unique_names = list(np.unique(np.append(train_ds.name_1.values, train_ds.name_2.values)))\n",
    "print(f'Всего уникальных имен {len(unique_names)}')"
   ]
  },
  {
   "cell_type": "code",
   "execution_count": 54,
   "id": "c9bd53af-d854-4560-a217-85fac7f9d7a8",
   "metadata": {},
   "outputs": [],
   "source": [
    "ds = train_ds.copy()"
   ]
  },
  {
   "cell_type": "code",
   "execution_count": null,
   "id": "2d5f966b-31a7-4e90-b00c-6cb66b7015d3",
   "metadata": {},
   "outputs": [],
   "source": [
    "for name in unique_names:\n",
    "    # Для каждого уникального имени ищем пары\n",
    "    par_of_names = ds[((ds.name_1 == name) | (ds.name_2 == name)) & (ds.is_duplicate == 1)]\n",
    "    unique_values = list(np.unique(np.append(par_of_names.name_1.values, par_of_names.name_2.values)))\n",
    "    print(unique_values)\n",
    "    # Если пары существуют\n",
    "    if len(unique_values) > 0:\n",
    "        # Идем глубже и для каждого значеня в паре ищем еще пары\n",
    "        unique_values.remove(name)\n",
    "        depper_unique_values = []\n",
    "\n",
    "        for val in unique_values:\n",
    "            par_of_names = ds[((ds.name_1 == val) | (ds.name_2 == val)) & (ds.is_duplicate == 1)]\n",
    "            depper_unique_values.extend(list(np.unique(np.append(par_of_names.name_1.values, par_of_names.name_2.values))))\n",
    "\n",
    "        unique_values.extend(depper_unique_values)\n",
    "        unique_values.append(name)\n",
    "        unique_values = list(set(unique_values))\n",
    "        print(unique_values)\n",
    "        # Добавляем кластер в переменную \n",
    "        clusters.append(unique_values)\n",
    "        # Удаляем значения из датасета, если мы его уже проверили и отнесили к кластеру\n",
    "        for val in unique_values:\n",
    "            unique_names.remove(val)\n",
    "            ds.drop(ds[ds.name_1 == val].index, inplace = True)\n",
    "            ds.drop(ds[ds.name_2 == val].index, inplace = True)\n",
    "            print(len(unique_names), len(ds))\n",
    "    else:\n",
    "        unique_names.remove(name)\n",
    "        ds.drop(ds[ds.name_1 == name].index, inplace = True)\n",
    "        ds.drop(ds[ds.name_2 == name].index, inplace = True)\n",
    "        print(len(unique_names), len(ds))"
   ]
  },
  {
   "cell_type": "code",
   "execution_count": null,
   "id": "e8156d47-83ba-4442-bed1-4e85317190ec",
   "metadata": {},
   "outputs": [],
   "source": [
    "clusters"
   ]
  },
  {
   "cell_type": "code",
   "execution_count": 71,
   "id": "bc4c9d67-8320-4a4d-8d6f-37de59b450a3",
   "metadata": {},
   "outputs": [
    {
     "data": {
      "text/html": [
       "<div>\n",
       "<style scoped>\n",
       "    .dataframe tbody tr th:only-of-type {\n",
       "        vertical-align: middle;\n",
       "    }\n",
       "\n",
       "    .dataframe tbody tr th {\n",
       "        vertical-align: top;\n",
       "    }\n",
       "\n",
       "    .dataframe thead th {\n",
       "        text-align: right;\n",
       "    }\n",
       "</style>\n",
       "<table border=\"1\" class=\"dataframe\">\n",
       "  <thead>\n",
       "    <tr style=\"text-align: right;\">\n",
       "      <th></th>\n",
       "      <th>name_1</th>\n",
       "      <th>name_2</th>\n",
       "      <th>is_duplicate</th>\n",
       "    </tr>\n",
       "  </thead>\n",
       "  <tbody>\n",
       "    <tr>\n",
       "      <th>378355</th>\n",
       "      <td>BASF CENRTAL ASIA LLP</td>\n",
       "      <td>BASF Central Asia LLP</td>\n",
       "      <td>1</td>\n",
       "    </tr>\n",
       "  </tbody>\n",
       "</table>\n",
       "</div>"
      ],
      "text/plain": [
       "                       name_1                 name_2  is_duplicate\n",
       "378355  BASF CENRTAL ASIA LLP  BASF Central Asia LLP             1"
      ]
     },
     "execution_count": 71,
     "metadata": {},
     "output_type": "execute_result"
    }
   ],
   "source": [
    "train_ds[((train_ds['name_1'] == 'BASF CENRTAL ASIA LLP') | (train_ds['name_2'] == 'BASF CENRTAL ASIA LLP')) & (train_ds['is_duplicate'] == 1)]"
   ]
  },
  {
   "cell_type": "code",
   "execution_count": 75,
   "id": "b3eaf91f-2b9e-4b9b-946d-d2057ec7582c",
   "metadata": {},
   "outputs": [
    {
     "data": {
      "text/html": [
       "<div>\n",
       "<style scoped>\n",
       "    .dataframe tbody tr th:only-of-type {\n",
       "        vertical-align: middle;\n",
       "    }\n",
       "\n",
       "    .dataframe tbody tr th {\n",
       "        vertical-align: top;\n",
       "    }\n",
       "\n",
       "    .dataframe thead th {\n",
       "        text-align: right;\n",
       "    }\n",
       "</style>\n",
       "<table border=\"1\" class=\"dataframe\">\n",
       "  <thead>\n",
       "    <tr style=\"text-align: right;\">\n",
       "      <th></th>\n",
       "      <th>name_1</th>\n",
       "      <th>name_2</th>\n",
       "      <th>is_duplicate</th>\n",
       "    </tr>\n",
       "  </thead>\n",
       "  <tbody>\n",
       "    <tr>\n",
       "      <th>378355</th>\n",
       "      <td>BASF CENRTAL ASIA LLP</td>\n",
       "      <td>BASF Central Asia LLP</td>\n",
       "      <td>1</td>\n",
       "    </tr>\n",
       "  </tbody>\n",
       "</table>\n",
       "</div>"
      ],
      "text/plain": [
       "                       name_1                 name_2  is_duplicate\n",
       "378355  BASF CENRTAL ASIA LLP  BASF Central Asia LLP             1"
      ]
     },
     "execution_count": 75,
     "metadata": {},
     "output_type": "execute_result"
    }
   ],
   "source": [
    "train_ds[((train_ds['name_1'] == 'BASF Central Asia LLP') | (train_ds['name_2'] == 'BASF Central Asia LLP')) & (train_ds['is_duplicate'] == 1)]"
   ]
  },
  {
   "cell_type": "markdown",
   "id": "4f561c4f-ea96-4b46-82aa-8d8197dc8c65",
   "metadata": {},
   "source": [
    "Как мы видим в кластерах есть проблема. Это очевидно, что компания BASF имеет больше элементов в своем кластере, но такие элементы, как: 'BASF Central Asia LLP', 'BASF CENRTAL ASIA LLP' из него выпали, что говорит нам о том, что не все кластеры в данном датасеты могу быть восстановленны"
   ]
  },
  {
   "cell_type": "code",
   "execution_count": 72,
   "id": "d42caa5b-2ce7-4889-ad7c-5d097a474454",
   "metadata": {},
   "outputs": [],
   "source": [
    "import json\n",
    "with open('clusters.json', 'w') as source:\n",
    "    json.dump({'clusters': clusters}, source)"
   ]
  },
  {
   "cell_type": "markdown",
   "id": "a67aaa55-434a-48f8-979b-377dcbc979d0",
   "metadata": {},
   "source": [
    "Добавим в cluster'ы название уникальных компаний без пары в виде уникального кластера"
   ]
  },
  {
   "cell_type": "code",
   "execution_count": 76,
   "id": "42aef803-1f2e-4c7e-bc72-bef484125596",
   "metadata": {},
   "outputs": [
    {
     "name": "stdout",
     "output_type": "stream",
     "text": [
      "Всего уникальных имен 18022\n"
     ]
    }
   ],
   "source": [
    "unique_names = list(np.unique(np.append(train_ds.name_1.values, train_ds.name_2.values)))\n",
    "print(f'Всего уникальных имен {len(unique_names)}')"
   ]
  },
  {
   "cell_type": "code",
   "execution_count": 85,
   "id": "609fcc06-4f85-476f-bbbc-2ff55765a1bc",
   "metadata": {},
   "outputs": [],
   "source": [
    "unique_values = []"
   ]
  },
  {
   "cell_type": "code",
   "execution_count": 86,
   "id": "f05dd11b-4bdc-41cb-9a10-037703c099ac",
   "metadata": {},
   "outputs": [],
   "source": [
    "for name in unique_names:\n",
    "    for clus in clusters:\n",
    "        if name in clus:\n",
    "            continue\n",
    "    unique_values.append(name)"
   ]
  },
  {
   "cell_type": "code",
   "execution_count": null,
   "id": "1f89e286-fde2-433c-8a41-1265e6a1cb69",
   "metadata": {},
   "outputs": [],
   "source": [
    "unique_values"
   ]
  },
  {
   "cell_type": "code",
   "execution_count": 90,
   "id": "ec0bc150-d56d-4739-b57b-92d40768ef1d",
   "metadata": {},
   "outputs": [],
   "source": [
    "for val in unique_values:\n",
    "    clusters.append([val])"
   ]
  },
  {
   "cell_type": "code",
   "execution_count": 91,
   "id": "0396f333-9e3a-4cb0-98f3-48c4c03c324c",
   "metadata": {},
   "outputs": [],
   "source": [
    "with open('clusters_with_unique.json', 'w') as source:\n",
    "    json.dump({'clusters': clusters}, source)"
   ]
  }
 ],
 "metadata": {
  "kernelspec": {
   "display_name": "Python 3 (ipykernel)",
   "language": "python",
   "name": "python3"
  },
  "language_info": {
   "codemirror_mode": {
    "name": "ipython",
    "version": 3
   },
   "file_extension": ".py",
   "mimetype": "text/x-python",
   "name": "python",
   "nbconvert_exporter": "python",
   "pygments_lexer": "ipython3",
   "version": "3.10.6"
  }
 },
 "nbformat": 4,
 "nbformat_minor": 5
}
